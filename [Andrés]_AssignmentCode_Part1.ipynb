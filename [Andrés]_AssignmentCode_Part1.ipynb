{
  "cells": [
    {
      "cell_type": "markdown",
      "id": "collectible-verification",
      "metadata": {
        "id": "collectible-verification"
      },
      "source": [
        "# PROJECT 1 (PART 1)\n",
        "\n",
        "## Exploratory data analysis and preprocessing\n",
        "\n",
        "The **exploratory data analysis** is the statistical treatment to which the samples collected during a research process in any scientific field are subjected.\n",
        "For greater speed and accuracy, the entire process is usually carried out by computer, with specific applications for statistical treatment.\n",
        "\n",
        "### Application to Data Mining\n",
        "\n",
        "In **data mining**, although not mandatory, it is a good practice to analyze the data you will be working with in order to observe its main characteristics in order to get an idea of the structure of the data set, and identify the target variable and possible modeling techniques.\n",
        "\n",
        "**Key steps:**\n",
        "- *Transform the data*: It helps us know what to do with null, missing values, or atypical data. In addition, it establishes if there is a need to reduce the dimensionality of data.\n",
        "- *Visualize*: Use some tool to make a graphical representation of the data, for example, R, Jupyter notebook, Google Colab, etc.\n",
        "- *Analyze and interpret*: Analyze and interpret the data through different visualizations.\n",
        "- *Document*: Document all the graphs and statistics generated.\n",
        "\n",
        "This process is also helpful when reviewing the data description to understand the meaning of each characteristic.\n",
        "\n",
        "There are several activities in doing an exploratory data analysis but in terms of data mining the key points to be made are:\n",
        "\n",
        "- Description of the data structure.\n",
        "- Identification of missing data.\n",
        "- Detection of outliers.\n",
        "- Identification of relationships between variable pairs."
      ]
    },
    {
      "cell_type": "code",
      "execution_count": null,
      "id": "initial-attachment",
      "metadata": {
        "id": "initial-attachment"
      },
      "outputs": [],
      "source": []
    },
    {
      "cell_type": "markdown",
      "id": "threaded-intake",
      "metadata": {
        "id": "threaded-intake"
      },
      "source": [
        "The **goal of this project** is to learn how to do data exploration. In this case, data from **New York City Yellow Taxis** is used.\n",
        "\n",
        "At the end of the notebook, you should be able to answer the following question:\n",
        "\n",
        "\n",
        "## How has covid affected the use of taxis in New York?\n",
        "\n",
        "Some of the questions you will ask yourselves throughout the notebook are:\n",
        "- How has covid changed the use of taxis in NYC?\n",
        "- What pick-up distribution do the taxis follow and what distance / duration do they take?\n",
        "- What are the areas where taxis are picked up the least? And where else do people go?\n",
        "- What are the most usual times?\n",
        "- Which days of the week and month are used the most? Possible reasons?"
      ]
    },
    {
      "cell_type": "markdown",
      "id": "agricultural-article",
      "metadata": {
        "id": "agricultural-article"
      },
      "source": [
        "**Install and import the required libraries**"
      ]
    },
    {
      "cell_type": "code",
      "execution_count": null,
      "id": "915c5f84-036e-4266-b153-06e36cc8035a",
      "metadata": {
        "tags": [],
        "id": "915c5f84-036e-4266-b153-06e36cc8035a"
      },
      "outputs": [],
      "source": [
        "# Install libraries\n",
        "!pip install pyarrow\n",
        "!pip install pyshp\n",
        "!pip install shapely==1.7.1\n",
        "!pip install descartes"
      ]
    },
    {
      "cell_type": "code",
      "execution_count": null,
      "id": "private-haven",
      "metadata": {
        "tags": [],
        "id": "private-haven"
      },
      "outputs": [],
      "source": [
        "# Import libraries - data processing\n",
        "import pandas as pd\n",
        "import numpy as np\n",
        "import pyarrow.parquet as pq"
      ]
    },
    {
      "cell_type": "code",
      "source": [
        "# Import libraries -  manipulation of files and downloads\n",
        "import urllib.request\n",
        "import zipfile\n",
        "import os\n",
        "from tqdm.notebook import tqdm"
      ],
      "metadata": {
        "id": "MtNsA5rHdFzK"
      },
      "id": "MtNsA5rHdFzK",
      "execution_count": null,
      "outputs": []
    },
    {
      "cell_type": "code",
      "execution_count": null,
      "id": "general-hotel",
      "metadata": {
        "tags": [],
        "id": "general-hotel"
      },
      "outputs": [],
      "source": [
        "# Import libraries - visualitzation\n",
        "import shapefile\n",
        "from shapely.geometry import Polygon\n",
        "from descartes.patch import PolygonPatch\n",
        "import seaborn as sns\n",
        "import matplotlib as mpl\n",
        "import matplotlib.pyplot as plt\n",
        "%matplotlib inline"
      ]
    },
    {
      "cell_type": "code",
      "execution_count": null,
      "id": "national-baseball",
      "metadata": {
        "id": "national-baseball"
      },
      "outputs": [],
      "source": [
        "# Global variables\n",
        "YEARS = [2018, 2019, 2020, 2021, 2022]"
      ]
    },
    {
      "cell_type": "code",
      "execution_count": null,
      "id": "comparative-hurricane",
      "metadata": {
        "id": "comparative-hurricane"
      },
      "outputs": [],
      "source": [
        "# Definition of the data path in Google Drive\n",
        "taxi_data_folder = '/content/drive/MyDrive/data'"
      ]
    },
    {
      "cell_type": "markdown",
      "id": "hungry-socket",
      "metadata": {
        "id": "hungry-socket"
      },
      "source": [
        "First of all, you need to download the data:\n",
        "\n",
        "https://www1.nyc.gov/site/tlc/about/tlc-trip-record-data.page"
      ]
    },
    {
      "cell_type": "code",
      "source": [
        "# Mount Google Drive (only required if running from Google Colab)\n",
        "from google.colab import drive\n",
        "drive.mount('/content/drive', force_remount=True)"
      ],
      "metadata": {
        "id": "GAr7miy1d7su",
        "colab": {
          "base_uri": "https://localhost:8080/"
        },
        "outputId": "853fd208-7362-47f3-f949-110a3ad76b51"
      },
      "id": "GAr7miy1d7su",
      "execution_count": null,
      "outputs": [
        {
          "output_type": "stream",
          "name": "stdout",
          "text": [
            "Mounted at /content/drive\n"
          ]
        }
      ]
    },
    {
      "cell_type": "code",
      "source": [
        "# Creation of the data folder if it does not exist\n",
        "if not os.path.exists(taxi_data_folder):\n",
        "    os.makedirs(taxi_data_folder, exist_ok=True)"
      ],
      "metadata": {
        "id": "Wh_VBU6DeD2R"
      },
      "id": "Wh_VBU6DeD2R",
      "execution_count": null,
      "outputs": []
    },
    {
      "cell_type": "code",
      "execution_count": null,
      "id": "numeric-medicine",
      "metadata": {
        "tags": [],
        "id": "numeric-medicine",
        "colab": {
          "base_uri": "https://localhost:8080/",
          "height": 49,
          "referenced_widgets": [
            "2ab10bf1197a4a0c8086ae09b6486255",
            "8251635e4a0a4ba8835eb98b76214781",
            "7b1395ac789343d4a980e060adf88a34",
            "4ccd641f053a4f2e97cf1e482f390ed7",
            "d9b2ed3f0fd74ae2941047ed66688e65",
            "3f5c08dc6eff443889adb6ecd4dc038a",
            "111324e82d714fc5a153c4baef0b1681",
            "60fa088ffbbc404f8126bdfbb4e417bd",
            "bb4b2fba26034a32af4eadfb020ce819",
            "10f66745785b44b484d7ba2cfcf8c7f0",
            "2f256ff7c3394e699570b0cb85058bec"
          ]
        },
        "outputId": "c1e60d75-4800-4687-ede7-d1afeeb3fbca"
      },
      "outputs": [
        {
          "output_type": "display_data",
          "data": {
            "text/plain": [
              "  0%|          | 0/5 [00:00<?, ?it/s]"
            ],
            "application/vnd.jupyter.widget-view+json": {
              "version_major": 2,
              "version_minor": 0,
              "model_id": "2ab10bf1197a4a0c8086ae09b6486255"
            }
          },
          "metadata": {}
        }
      ],
      "source": [
        "# Download the Trip Record Data\n",
        "for year in tqdm(YEARS):\n",
        "    year_folder = f'{taxi_data_folder}/{year}'\n",
        "    if not os.path.exists(year_folder):\n",
        "        os.makedirs(year_folder, exist_ok=True)\n",
        "        for month in tqdm(range(1, 13)):\n",
        "            month_file_path = f'{year_folder}/{month:02d}.parquet'\n",
        "            if not os.path.exists(month_file_path):\n",
        "                urllib.request.urlretrieve(f'https://d37ci6vzurychx.cloudfront.net/trip-data/yellow_tripdata_{year}-{month:02d}.parquet', month_file_path)\n"
      ]
    },
    {
      "cell_type": "markdown",
      "id": "taken-oracle",
      "metadata": {
        "id": "taken-oracle"
      },
      "source": [
        "## 01. Data cleaning\n",
        "\n",
        "In order to have clean and useful data, it is necessary to delete all those rows that contain corrupt information:\n",
        "- The pick-up is after the drop-off.\n",
        "- Dates are imported by months and years. Are the dates correct?\n",
        "- Traveling with zero passengers?\n",
        "- Do you travel very long or particularly short?\n",
        "- Negative payments."
      ]
    },
    {
      "cell_type": "markdown",
      "id": "higher-diploma",
      "metadata": {
        "id": "higher-diploma"
      },
      "source": [
        "**Data Dictionary**\n",
        "\n",
        "Only the next columns are needed:\n",
        "\n",
        "- *tpep_pickup_datetime*: The date and time when the meter was engaged.\n",
        "- *tpep_dropoff_datetime*: The date and time when the meter was disengaged.\n",
        "- *Passenger_count*: The number of passengers in the vehicle. (This is a driver-entered value)\n",
        "- *Trip_distance*: The elapsed trip distance in miles reported by the taximeter.\n",
        "- *PULocationID*: TLC Taxi Zone in which the taximeter was engaged\n",
        "- *DOLocationID*: TLC Taxi Zone in which the taximeter was disengaged\n",
        "- *Payment_type*: A numeric code signifying how the passenger paid for the trip.\n",
        "    - 1= Credit card\n",
        "    - 2= Cash\n",
        "    - 3= No charge\n",
        "    - 4= Dispute\n",
        "    - 5= Unknown\n",
        "    - 6= Voided trip\n",
        "- *Fare_amount*: The time-and-distance fare calculated by the meter.\n",
        "- *Total_amount*: The total amount charged to passengers. Does not include cash tips."
      ]
    },
    {
      "cell_type": "markdown",
      "id": "standing-google",
      "metadata": {
        "id": "standing-google"
      },
      "source": [
        "**Remarks:**\n",
        "\n",
        "- To speed up the calculations and reduce the computation time, do a uniform sampling of the data (a sample out of 1000).\n",
        "- Datetime columns are *to_datetime* series (help to search functions)"
      ]
    },
    {
      "cell_type": "code",
      "execution_count": null,
      "id": "grave-priest",
      "metadata": {
        "id": "grave-priest"
      },
      "outputs": [],
      "source": [
        "def load_table(year, month):\n",
        "    \"\"\"\n",
        "    Function that reads the downloaded data and converts it to a DataFrame\n",
        "    \"\"\"\n",
        "\n",
        "    file_path = os.path.join(taxi_data_folder, str(year), f'{str(month).zfill(2)}.parquet')\n",
        "\n",
        "    return pq.read_table(file_path).to_pandas()"
      ]
    },
    {
      "cell_type": "code",
      "execution_count": null,
      "id": "freelance-andrew",
      "metadata": {
        "tags": [],
        "id": "freelance-andrew"
      },
      "outputs": [],
      "source": [
        "required_data = ['tpep_pickup_datetime', 'tpep_dropoff_datetime', 'passenger_count', 'trip_distance',\n",
        "                 'PULocationID', 'DOLocationID', 'payment_type', 'fare_amount', 'total_amount']\n",
        "\n",
        "def clean_data(data, year, month, sampling = 1000):\n",
        "    \"\"\"\n",
        "    Cleans the New York taxi data for a specific month and year.\n",
        "\n",
        "    Parameters:\n",
        "    - data: DataFrame containing the taxi data.\n",
        "    - year: Year to filter on.\n",
        "    - month: Month to filter on.\n",
        "    - sampling\n",
        "\n",
        "    Returns:\n",
        "    - A cleaned DataFrame.\n",
        "    \"\"\"\n",
        "\n",
        "    #data[::sampling]\n",
        "    #sample_data = data.sample(sampling)\n",
        "    #print(sample_data)\n",
        "\n",
        "    \"\"\"\n",
        "    data_with_zero_passenger = data[data['passenger_count'] <= 0].index\n",
        "    data_pickup_after = data[data['tpep_pickup_datetime'] >= data['tpep_dropoff_datetime']].index\n",
        "    data_with_negative_payment = data[data['total_amount'] <= 0].index\n",
        "    data_with_pickupdate = data[data['tpep_pickup_datetime'].dt.year != year]\n",
        "    data_with_dropoff = data[data['tpep_dropoff_datetime'].dt.year != year]\n",
        "\n",
        "    print(data_with_dropoff)\n",
        "    \"\"\"\n",
        "    ## Profesor version\n",
        "\n",
        "    data = data[required_data][::sampling]\n",
        "    filter = data['tpep_pickup_datetime'] < data['tpep_dropoff_datetime']\n",
        "    data = data[filter]\n",
        "\n",
        "    filter = data['passenger_count'] > 0\n",
        "    data = data[filter]\n",
        "\n",
        "    filter = data['total_amount'] > 0\n",
        "    data = data[filter]\n",
        "\n",
        "    # ojo con el AND es con &\n",
        "    filter = (data['tpep_pickup_datetime'].dt.year == year) & (data['tpep_pickup_datetime'].dt.month == month)\n",
        "    data = data[filter]\n",
        "\n",
        "    filter = (data['tpep_dropoff_datetime'].dt.year == year) & (data['tpep_dropoff_datetime'].dt.month == month)\n",
        "    data = data[filter]\n",
        "\n",
        "    miles_kilometers_factor = 0.62137119\n",
        "    data['trip_distance'] = data['trip_distance'] / miles_kilometers_factor\n",
        "\n",
        "    filter = data['trip_distance'] < 100\n",
        "    data = data[filter]\n",
        "\n",
        "    #100 meters - tripr more than 100 meters\n",
        "    filter = data['trip_distance'] > 0.1\n",
        "    data = data[filter]\n",
        "\n",
        "    filter = (data['tpep_dropoff_datetime'] - data['tpep_pickup_datetime']) / np.timedelta64(1, 'm')\n",
        "\n",
        "    filter = filter > 10\n",
        "    data = data[filter]\n",
        "\n",
        "    filter = (data['tpep_dropoff_datetime'] - data['tpep_pickup_datetime']) / np.timedelta64(1, 'm')\n",
        "\n",
        "    filter = filter < 120\n",
        "    data = data[filter]\n",
        "\n",
        "    return data"
      ]
    },
    {
      "cell_type": "code",
      "source": [
        "year = 2019\n",
        "month = 1\n",
        "df = load_table(year, month)"
      ],
      "metadata": {
        "id": "ffYDqrD2btV7"
      },
      "id": "ffYDqrD2btV7",
      "execution_count": null,
      "outputs": []
    },
    {
      "cell_type": "code",
      "source": [
        "df.shape"
      ],
      "metadata": {
        "colab": {
          "base_uri": "https://localhost:8080/"
        },
        "id": "M9lKbYa4iKWu",
        "outputId": "ad91b244-635a-401b-a79f-ac4ce55de4f5"
      },
      "id": "M9lKbYa4iKWu",
      "execution_count": null,
      "outputs": [
        {
          "output_type": "execute_result",
          "data": {
            "text/plain": [
              "(7696617, 19)"
            ]
          },
          "metadata": {},
          "execution_count": 19
        }
      ]
    },
    {
      "cell_type": "markdown",
      "id": "unexpected-shock",
      "metadata": {
        "id": "unexpected-shock"
      },
      "source": [
        "In the ***post_processing*** function you can add all information you need in order to perform the necessary exploration.\n",
        "\n",
        "Particularly, this function should achieve the following:\n",
        "\n",
        "1. Extract the month, week number, day of the week, hour, and day of the year from both the tpep_pickup_datetime and tpep_dropoff_datetime columns. This will give us a finer understanding of the patterns within our data. For clarity, your derived columns should be named as pickup_month, **pickup_week**, **pickup_day**, **pickup_hour**, **pickup_dayofyear**, and similarly for the drop-off attributes.\n",
        "\n",
        "2. Calculate the trip duration in hours. This will help us understand the lengths of the trips people take. You can name this column as **trip_duration**.\n",
        "\n",
        "3. Convert the trip_distance from miles to kilometers. Please ensure you create a new column for this, named **trip_distance**."
      ]
    },
    {
      "cell_type": "code",
      "execution_count": null,
      "id": "external-tablet",
      "metadata": {
        "tags": [],
        "id": "external-tablet"
      },
      "outputs": [],
      "source": [
        "def post_processing(data):\n",
        "\n",
        "    \"\"\"\n",
        "    Function to implement any type of post-processing required.\n",
        "    \"\"\"\n",
        "\n",
        "    df['pickup_month'] = df['tpep_pickup_datetime'].dt.month\n",
        "    df['pickup_week'] = df['tpep_pickup_datetime'].dt.isocalendar().week\n",
        "    df['pickup_day'] = df['tpep_pickup_datetime'].dt.day\n",
        "    df['pickup_hour'] = df['tpep_pickup_datetime'].dt.hour\n",
        "    df['pickup_dayofyear'] = df['tpep_pickup_datetime'].dt.dayofyear\n",
        "\n",
        "    df['dropoff_month'] = df['tpep_dropoff_datetime'].dt.month\n",
        "    df['dropoff_week'] = df['tpep_dropoff_datetime'].dt.isocalendar().week\n",
        "    df['dropoff_day'] = df['tpep_dropoff_datetime'].dt.day\n",
        "    df['dropoff_hour'] = df['tpep_dropoff_datetime'].dt.hour\n",
        "    df['dropoff_dayofyear'] = df['tpep_dropoff_datetime'].dt.dayofyear\n",
        "\n",
        "\n",
        "    data['trip_duration'] = (data['tpep_dropoff_datetime'] - data['tpep_pickup_datetime']) / np.timedelta64(1, 'h')\n",
        "\n",
        "    return data"
      ]
    },
    {
      "cell_type": "markdown",
      "id": "median-grain",
      "metadata": {
        "id": "median-grain"
      },
      "source": [
        "Create a new dataset that contains all the information for the years: 2019, 2020, and 2021.\n",
        "\n",
        "Remember that in order to reduce the memory required, you can take a subsample of the data."
      ]
    },
    {
      "cell_type": "code",
      "execution_count": null,
      "id": "decent-decimal",
      "metadata": {
        "tags": [],
        "id": "decent-decimal",
        "colab": {
          "base_uri": "https://localhost:8080/"
        },
        "outputId": "b8e14306-94ff-4aac-a07a-50d8933d0009"
      },
      "outputs": [
        {
          "output_type": "execute_result",
          "data": {
            "text/plain": [
              "(3786, 9)"
            ]
          },
          "metadata": {},
          "execution_count": 21
        }
      ],
      "source": [
        "#df = pd.concat([clean_data(load_table(year, month), year, month) for year in tqdm(YEARS) for month in tqdm(range(1, 1), leave = False)])\n",
        "year = 2019\n",
        "month = 1\n",
        "df = clean_data(load_table(year, month), year, month)\n",
        "df.shape"
      ]
    },
    {
      "cell_type": "code",
      "execution_count": null,
      "id": "worse-mayor",
      "metadata": {
        "id": "worse-mayor"
      },
      "outputs": [],
      "source": [
        "df = post_processing(df)"
      ]
    },
    {
      "cell_type": "code",
      "execution_count": null,
      "id": "organizational-witness",
      "metadata": {
        "id": "organizational-witness",
        "colab": {
          "base_uri": "https://localhost:8080/"
        },
        "outputId": "e157de27-4a3d-408e-94f2-2460f595ec7e"
      },
      "outputs": [
        {
          "output_type": "execute_result",
          "data": {
            "text/plain": [
              "(3786, 20)"
            ]
          },
          "metadata": {},
          "execution_count": 25
        }
      ],
      "source": [
        "df.shape"
      ]
    },
    {
      "cell_type": "code",
      "source": [
        "df.reset_index(drop=True)"
      ],
      "metadata": {
        "id": "jYAwIz47jOAB"
      },
      "id": "jYAwIz47jOAB",
      "execution_count": null,
      "outputs": []
    },
    {
      "cell_type": "code",
      "source": [
        "# Save clean df\n",
        "df.to_csv(f'{taxi_data_folder}/clean_data_andres.csv', index = False)"
      ],
      "metadata": {
        "id": "NgZEfOlCiW-I"
      },
      "id": "NgZEfOlCiW-I",
      "execution_count": null,
      "outputs": []
    },
    {
      "cell_type": "markdown",
      "source": [
        "## Pandas Sheet"
      ],
      "metadata": {
        "id": "gY7OZ7ZMjS3R"
      },
      "id": "gY7OZ7ZMjS3R"
    },
    {
      "cell_type": "markdown",
      "source": [
        "**Pandas Concepts and Functions**\n",
        "\n",
        "1. **DataFrame**:\n",
        "\n",
        "  - A DataFrame is the primary data structure in Pandas, similar to an Excel worksheet.\n",
        "  - It's a 2-dimensional labeled data structure with rows and columns.\n",
        "\n",
        "2. **DataFrame Indexing**:\n",
        "\n",
        "  - This refers to selecting specific rows and/or columns from a DataFrame.\n",
        "  - For example, **data['column_name']** would select a specific column from the DataFrame.\n",
        "  - Other way to do it is using **'.loc'**. It is a label-based data selection method which means that we have to pass the name of the row or/and column which we want to select: **data.loc[row_condition, ['columns_name']]**.\n",
        "\n",
        "3. **Datetime Properties**:\n",
        "\n",
        "  - Datetime in Pandas allows us to work with date and time data.\n",
        "  With **'.dt'** accessor, we can access properties like year, month, day, etc.\n",
        "  - Example: **data['date_column'].dt.year** would extract the year from each date in the column.\n",
        "\n",
        "4. **Drop NaN Values**:\n",
        "\n",
        "  - NaN stands for \"Not a Number\" and indicates a missing value.\n",
        "  - The '**dropna()**' function is used to remove missing values.\n",
        "  - Example: **'data.dropna()'** would drop any row in the DataFrame that contains at least one NaN value.\n",
        "\n",
        "5. **Filtering**:\n",
        "\n",
        "  - This refers to selecting specific rows in a DataFrame based on some condition.\n",
        "  - Example: data[data['age'] > 18] would select rows where the age column's value is greater than 18.\n",
        "\n",
        "6. **Reset Index**:\n",
        "\n",
        "  - Sometimes, after filtering or other operations, the index of a DataFrame can become out of order. Resetting it creates a new, orderly index.\n",
        "  - **'reset_index(drop=True)'** will reset the index and drop the old index values.\n",
        "\n",
        "7. **Boolean Indexing**:\n",
        "\n",
        "  - It's a filtering method used in Pandas where rows are selected based on True/False values, typically from a condition applied to a column.\n",
        "  - Example: If condition is an array of boolean values, then '**data[condition]**' will return rows where the condition is True.\n",
        "\n",
        "8. **Column Creation/Modification**:\n",
        "\n",
        "  - In Pandas, you can easily create a new column or modify an existing one.\n",
        "  - Example: **data['new_column'] = data['old_column'] * 2** would create a new column with values doubled from the old column."
      ],
      "metadata": {
        "id": "Ozq8A7mWnr1s"
      },
      "id": "Ozq8A7mWnr1s"
    },
    {
      "cell_type": "code",
      "source": [],
      "metadata": {
        "id": "SETjNPcViqm9"
      },
      "id": "SETjNPcViqm9",
      "execution_count": null,
      "outputs": []
    }
  ],
  "metadata": {
    "kernelspec": {
      "display_name": "Python 3 (ipykernel)",
      "language": "python",
      "name": "python3"
    },
    "language_info": {
      "codemirror_mode": {
        "name": "ipython",
        "version": 3
      },
      "file_extension": ".py",
      "mimetype": "text/x-python",
      "name": "python",
      "nbconvert_exporter": "python",
      "pygments_lexer": "ipython3",
      "version": "3.8.17"
    },
    "colab": {
      "provenance": []
    },
    "widgets": {
      "application/vnd.jupyter.widget-state+json": {
        "2ab10bf1197a4a0c8086ae09b6486255": {
          "model_module": "@jupyter-widgets/controls",
          "model_name": "HBoxModel",
          "model_module_version": "1.5.0",
          "state": {
            "_dom_classes": [],
            "_model_module": "@jupyter-widgets/controls",
            "_model_module_version": "1.5.0",
            "_model_name": "HBoxModel",
            "_view_count": null,
            "_view_module": "@jupyter-widgets/controls",
            "_view_module_version": "1.5.0",
            "_view_name": "HBoxView",
            "box_style": "",
            "children": [
              "IPY_MODEL_8251635e4a0a4ba8835eb98b76214781",
              "IPY_MODEL_7b1395ac789343d4a980e060adf88a34",
              "IPY_MODEL_4ccd641f053a4f2e97cf1e482f390ed7"
            ],
            "layout": "IPY_MODEL_d9b2ed3f0fd74ae2941047ed66688e65"
          }
        },
        "8251635e4a0a4ba8835eb98b76214781": {
          "model_module": "@jupyter-widgets/controls",
          "model_name": "HTMLModel",
          "model_module_version": "1.5.0",
          "state": {
            "_dom_classes": [],
            "_model_module": "@jupyter-widgets/controls",
            "_model_module_version": "1.5.0",
            "_model_name": "HTMLModel",
            "_view_count": null,
            "_view_module": "@jupyter-widgets/controls",
            "_view_module_version": "1.5.0",
            "_view_name": "HTMLView",
            "description": "",
            "description_tooltip": null,
            "layout": "IPY_MODEL_3f5c08dc6eff443889adb6ecd4dc038a",
            "placeholder": "​",
            "style": "IPY_MODEL_111324e82d714fc5a153c4baef0b1681",
            "value": "100%"
          }
        },
        "7b1395ac789343d4a980e060adf88a34": {
          "model_module": "@jupyter-widgets/controls",
          "model_name": "FloatProgressModel",
          "model_module_version": "1.5.0",
          "state": {
            "_dom_classes": [],
            "_model_module": "@jupyter-widgets/controls",
            "_model_module_version": "1.5.0",
            "_model_name": "FloatProgressModel",
            "_view_count": null,
            "_view_module": "@jupyter-widgets/controls",
            "_view_module_version": "1.5.0",
            "_view_name": "ProgressView",
            "bar_style": "success",
            "description": "",
            "description_tooltip": null,
            "layout": "IPY_MODEL_60fa088ffbbc404f8126bdfbb4e417bd",
            "max": 5,
            "min": 0,
            "orientation": "horizontal",
            "style": "IPY_MODEL_bb4b2fba26034a32af4eadfb020ce819",
            "value": 5
          }
        },
        "4ccd641f053a4f2e97cf1e482f390ed7": {
          "model_module": "@jupyter-widgets/controls",
          "model_name": "HTMLModel",
          "model_module_version": "1.5.0",
          "state": {
            "_dom_classes": [],
            "_model_module": "@jupyter-widgets/controls",
            "_model_module_version": "1.5.0",
            "_model_name": "HTMLModel",
            "_view_count": null,
            "_view_module": "@jupyter-widgets/controls",
            "_view_module_version": "1.5.0",
            "_view_name": "HTMLView",
            "description": "",
            "description_tooltip": null,
            "layout": "IPY_MODEL_10f66745785b44b484d7ba2cfcf8c7f0",
            "placeholder": "​",
            "style": "IPY_MODEL_2f256ff7c3394e699570b0cb85058bec",
            "value": " 5/5 [00:00&lt;00:00, 271.71it/s]"
          }
        },
        "d9b2ed3f0fd74ae2941047ed66688e65": {
          "model_module": "@jupyter-widgets/base",
          "model_name": "LayoutModel",
          "model_module_version": "1.2.0",
          "state": {
            "_model_module": "@jupyter-widgets/base",
            "_model_module_version": "1.2.0",
            "_model_name": "LayoutModel",
            "_view_count": null,
            "_view_module": "@jupyter-widgets/base",
            "_view_module_version": "1.2.0",
            "_view_name": "LayoutView",
            "align_content": null,
            "align_items": null,
            "align_self": null,
            "border": null,
            "bottom": null,
            "display": null,
            "flex": null,
            "flex_flow": null,
            "grid_area": null,
            "grid_auto_columns": null,
            "grid_auto_flow": null,
            "grid_auto_rows": null,
            "grid_column": null,
            "grid_gap": null,
            "grid_row": null,
            "grid_template_areas": null,
            "grid_template_columns": null,
            "grid_template_rows": null,
            "height": null,
            "justify_content": null,
            "justify_items": null,
            "left": null,
            "margin": null,
            "max_height": null,
            "max_width": null,
            "min_height": null,
            "min_width": null,
            "object_fit": null,
            "object_position": null,
            "order": null,
            "overflow": null,
            "overflow_x": null,
            "overflow_y": null,
            "padding": null,
            "right": null,
            "top": null,
            "visibility": null,
            "width": null
          }
        },
        "3f5c08dc6eff443889adb6ecd4dc038a": {
          "model_module": "@jupyter-widgets/base",
          "model_name": "LayoutModel",
          "model_module_version": "1.2.0",
          "state": {
            "_model_module": "@jupyter-widgets/base",
            "_model_module_version": "1.2.0",
            "_model_name": "LayoutModel",
            "_view_count": null,
            "_view_module": "@jupyter-widgets/base",
            "_view_module_version": "1.2.0",
            "_view_name": "LayoutView",
            "align_content": null,
            "align_items": null,
            "align_self": null,
            "border": null,
            "bottom": null,
            "display": null,
            "flex": null,
            "flex_flow": null,
            "grid_area": null,
            "grid_auto_columns": null,
            "grid_auto_flow": null,
            "grid_auto_rows": null,
            "grid_column": null,
            "grid_gap": null,
            "grid_row": null,
            "grid_template_areas": null,
            "grid_template_columns": null,
            "grid_template_rows": null,
            "height": null,
            "justify_content": null,
            "justify_items": null,
            "left": null,
            "margin": null,
            "max_height": null,
            "max_width": null,
            "min_height": null,
            "min_width": null,
            "object_fit": null,
            "object_position": null,
            "order": null,
            "overflow": null,
            "overflow_x": null,
            "overflow_y": null,
            "padding": null,
            "right": null,
            "top": null,
            "visibility": null,
            "width": null
          }
        },
        "111324e82d714fc5a153c4baef0b1681": {
          "model_module": "@jupyter-widgets/controls",
          "model_name": "DescriptionStyleModel",
          "model_module_version": "1.5.0",
          "state": {
            "_model_module": "@jupyter-widgets/controls",
            "_model_module_version": "1.5.0",
            "_model_name": "DescriptionStyleModel",
            "_view_count": null,
            "_view_module": "@jupyter-widgets/base",
            "_view_module_version": "1.2.0",
            "_view_name": "StyleView",
            "description_width": ""
          }
        },
        "60fa088ffbbc404f8126bdfbb4e417bd": {
          "model_module": "@jupyter-widgets/base",
          "model_name": "LayoutModel",
          "model_module_version": "1.2.0",
          "state": {
            "_model_module": "@jupyter-widgets/base",
            "_model_module_version": "1.2.0",
            "_model_name": "LayoutModel",
            "_view_count": null,
            "_view_module": "@jupyter-widgets/base",
            "_view_module_version": "1.2.0",
            "_view_name": "LayoutView",
            "align_content": null,
            "align_items": null,
            "align_self": null,
            "border": null,
            "bottom": null,
            "display": null,
            "flex": null,
            "flex_flow": null,
            "grid_area": null,
            "grid_auto_columns": null,
            "grid_auto_flow": null,
            "grid_auto_rows": null,
            "grid_column": null,
            "grid_gap": null,
            "grid_row": null,
            "grid_template_areas": null,
            "grid_template_columns": null,
            "grid_template_rows": null,
            "height": null,
            "justify_content": null,
            "justify_items": null,
            "left": null,
            "margin": null,
            "max_height": null,
            "max_width": null,
            "min_height": null,
            "min_width": null,
            "object_fit": null,
            "object_position": null,
            "order": null,
            "overflow": null,
            "overflow_x": null,
            "overflow_y": null,
            "padding": null,
            "right": null,
            "top": null,
            "visibility": null,
            "width": null
          }
        },
        "bb4b2fba26034a32af4eadfb020ce819": {
          "model_module": "@jupyter-widgets/controls",
          "model_name": "ProgressStyleModel",
          "model_module_version": "1.5.0",
          "state": {
            "_model_module": "@jupyter-widgets/controls",
            "_model_module_version": "1.5.0",
            "_model_name": "ProgressStyleModel",
            "_view_count": null,
            "_view_module": "@jupyter-widgets/base",
            "_view_module_version": "1.2.0",
            "_view_name": "StyleView",
            "bar_color": null,
            "description_width": ""
          }
        },
        "10f66745785b44b484d7ba2cfcf8c7f0": {
          "model_module": "@jupyter-widgets/base",
          "model_name": "LayoutModel",
          "model_module_version": "1.2.0",
          "state": {
            "_model_module": "@jupyter-widgets/base",
            "_model_module_version": "1.2.0",
            "_model_name": "LayoutModel",
            "_view_count": null,
            "_view_module": "@jupyter-widgets/base",
            "_view_module_version": "1.2.0",
            "_view_name": "LayoutView",
            "align_content": null,
            "align_items": null,
            "align_self": null,
            "border": null,
            "bottom": null,
            "display": null,
            "flex": null,
            "flex_flow": null,
            "grid_area": null,
            "grid_auto_columns": null,
            "grid_auto_flow": null,
            "grid_auto_rows": null,
            "grid_column": null,
            "grid_gap": null,
            "grid_row": null,
            "grid_template_areas": null,
            "grid_template_columns": null,
            "grid_template_rows": null,
            "height": null,
            "justify_content": null,
            "justify_items": null,
            "left": null,
            "margin": null,
            "max_height": null,
            "max_width": null,
            "min_height": null,
            "min_width": null,
            "object_fit": null,
            "object_position": null,
            "order": null,
            "overflow": null,
            "overflow_x": null,
            "overflow_y": null,
            "padding": null,
            "right": null,
            "top": null,
            "visibility": null,
            "width": null
          }
        },
        "2f256ff7c3394e699570b0cb85058bec": {
          "model_module": "@jupyter-widgets/controls",
          "model_name": "DescriptionStyleModel",
          "model_module_version": "1.5.0",
          "state": {
            "_model_module": "@jupyter-widgets/controls",
            "_model_module_version": "1.5.0",
            "_model_name": "DescriptionStyleModel",
            "_view_count": null,
            "_view_module": "@jupyter-widgets/base",
            "_view_module_version": "1.2.0",
            "_view_name": "StyleView",
            "description_width": ""
          }
        }
      }
    }
  },
  "nbformat": 4,
  "nbformat_minor": 5
}